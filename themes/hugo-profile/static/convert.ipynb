{
 "cells": [
  {
   "cell_type": "code",
   "execution_count": 5,
   "metadata": {},
   "outputs": [
    {
     "name": "stdout",
     "output_type": "stream",
     "text": [
      "The image has been resized and saved to /Users/db/personal-portfolio/my-site/themes/hugo-profile/static/devrev.png.\n"
     ]
    }
   ],
   "source": [
    "import cv2\n",
    "\n",
    "# Read the input image\n",
    "input_image_path = '/Users/db/personal-portfolio/my-site/themes/hugo-profile/static/devrev.png'  # Replace with the actual path to your image\n",
    "image = cv2.imread(input_image_path)\n",
    "\n",
    "# Check if the image was successfully loaded\n",
    "if image is None:\n",
    "    print(\"Error: Unable to load the input image.\")\n",
    "else:\n",
    "    # Resize the image to 1024x1024 pixels\n",
    "    resized_image = cv2.resize(image, (1024, 1024))\n",
    "\n",
    "    # Save the resized image\n",
    "    output_image_path = input_image_path  # Replace with the path where you want to save the resized image\n",
    "    cv2.imwrite(output_image_path, resized_image)\n",
    "\n",
    "    print(f\"The image has been resized and saved to {output_image_path}.\")\n"
   ]
  },
  {
   "cell_type": "code",
   "execution_count": null,
   "metadata": {},
   "outputs": [],
   "source": []
  }
 ],
 "metadata": {
  "kernelspec": {
   "display_name": "base",
   "language": "python",
   "name": "python3"
  },
  "language_info": {
   "codemirror_mode": {
    "name": "ipython",
    "version": 3
   },
   "file_extension": ".py",
   "mimetype": "text/x-python",
   "name": "python",
   "nbconvert_exporter": "python",
   "pygments_lexer": "ipython3",
   "version": "3.11.4"
  },
  "orig_nbformat": 4
 },
 "nbformat": 4,
 "nbformat_minor": 2
}
