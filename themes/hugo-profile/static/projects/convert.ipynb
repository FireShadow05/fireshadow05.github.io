{
 "cells": [
  {
   "cell_type": "code",
   "execution_count": 5,
   "metadata": {},
   "outputs": [
    {
     "name": "stdout",
     "output_type": "stream",
     "text": [
      "The image has been resized and saved to /Users/db/personal-portfolio/my-site/themes/hugo-profile/static/devrev.png.\n"
     ]
    }
   ],
   "source": [
    "import os\n",
    "import cv2\n",
    "\n",
    "# Directory containing the input images\n",
    "input_dir = '/Users/db/FireShadow05.github.io/themes/hugo-profile/static/projects/'  # Replace with the actual path to your directory\n",
    "output_dir = '/Users/db/FireShadow05.github.io/themes/hugo-profile/static/projects/processed'  # Replace with the path where you want to save the resized images\n",
    "\n",
    "# Iterate over all files in the input directory\n",
    "for filename in os.listdir(input_dir):\n",
    "    if filename.lower().endswith((\".png\", \".jpg\", \".jpeg\")):  # Check for PNG, JPG, or JPEG files (case-insensitive)\n",
    "        # Read the input image\n",
    "        input_image_path = os.path.join(input_dir, filename)\n",
    "        image = cv2.imread(input_image_path)\n",
    "\n",
    "        # Check if the image was successfully loaded\n",
    "        if image is None:\n",
    "            print(f\"Error: Unable to load the input image '{filename}'.\")\n",
    "        else:\n",
    "            # Resize the image to 1024x1024 pixels\n",
    "            resized_image = cv2.resize(image, (1024, 1024))\n",
    "\n",
    "            # Save the resized image\n",
    "            output_image_path = os.path.join(output_dir, filename)\n",
    "            cv2.imwrite(output_image_path, resized_image)\n",
    "\n",
    "            print(f\"The image '{filename}' has been resized and saved to '{output_image_path}'.\")\n",
    "\n",
    "    else:\n",
    "        print(f\"Skipping file '{filename}' as it is not a supported image format.\")"
   ]
  },
  {
   "cell_type": "code",
   "execution_count": null,
   "metadata": {},
   "outputs": [],
   "source": []
  }
 ],
 "metadata": {
  "kernelspec": {
   "display_name": "base",
   "language": "python",
   "name": "python3"
  },
  "language_info": {
   "codemirror_mode": {
    "name": "ipython",
    "version": 3
   },
   "file_extension": ".py",
   "mimetype": "text/x-python",
   "name": "python",
   "nbconvert_exporter": "python",
   "pygments_lexer": "ipython3",
   "version": "3.11.4"
  },
  "orig_nbformat": 4
 },
 "nbformat": 4,
 "nbformat_minor": 2
}
